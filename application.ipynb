{
 "cells": [
  {
   "cell_type": "code",
   "execution_count": 8,
   "id": "636c8908",
   "metadata": {
    "scrolled": false
   },
   "outputs": [
    {
     "data": {
      "text/html": [
       "<div>\n",
       "<style scoped>\n",
       "    .dataframe tbody tr th:only-of-type {\n",
       "        vertical-align: middle;\n",
       "    }\n",
       "\n",
       "    .dataframe tbody tr th {\n",
       "        vertical-align: top;\n",
       "    }\n",
       "\n",
       "    .dataframe thead th {\n",
       "        text-align: right;\n",
       "    }\n",
       "</style>\n",
       "<table border=\"1\" class=\"dataframe\">\n",
       "  <thead>\n",
       "    <tr style=\"text-align: right;\">\n",
       "      <th></th>\n",
       "      <th>posts</th>\n",
       "      <th>type</th>\n",
       "    </tr>\n",
       "  </thead>\n",
       "  <tbody>\n",
       "    <tr>\n",
       "      <th>0</th>\n",
       "      <td>know intj tool use interaction people excuse a...</td>\n",
       "      <td>INTJ</td>\n",
       "    </tr>\n",
       "    <tr>\n",
       "      <th>1</th>\n",
       "      <td>rap music ehh opp yeah know valid well know fa...</td>\n",
       "      <td>INTJ</td>\n",
       "    </tr>\n",
       "    <tr>\n",
       "      <th>2</th>\n",
       "      <td>preferably p hd low except wew lad video p min...</td>\n",
       "      <td>INTJ</td>\n",
       "    </tr>\n",
       "    <tr>\n",
       "      <th>3</th>\n",
       "      <td>drink like wish could drink red wine give head...</td>\n",
       "      <td>INTJ</td>\n",
       "    </tr>\n",
       "    <tr>\n",
       "      <th>4</th>\n",
       "      <td>space program ah bad deal meing freelance max ...</td>\n",
       "      <td>INTJ</td>\n",
       "    </tr>\n",
       "    <tr>\n",
       "      <th>...</th>\n",
       "      <td>...</td>\n",
       "      <td>...</td>\n",
       "    </tr>\n",
       "    <tr>\n",
       "      <th>106062</th>\n",
       "      <td>stay frustrate world life want take long nap w...</td>\n",
       "      <td>INFP</td>\n",
       "    </tr>\n",
       "    <tr>\n",
       "      <th>106063</th>\n",
       "      <td>fizzle around time mention sure mistake thing ...</td>\n",
       "      <td>INFP</td>\n",
       "    </tr>\n",
       "    <tr>\n",
       "      <th>106064</th>\n",
       "      <td>schedule modify hey w intp strong wing underst...</td>\n",
       "      <td>INFP</td>\n",
       "    </tr>\n",
       "    <tr>\n",
       "      <th>106065</th>\n",
       "      <td>enfj since january busy schedule able spend li...</td>\n",
       "      <td>INFP</td>\n",
       "    </tr>\n",
       "    <tr>\n",
       "      <th>106066</th>\n",
       "      <td>feel like men good problem tell parent want te...</td>\n",
       "      <td>INFP</td>\n",
       "    </tr>\n",
       "  </tbody>\n",
       "</table>\n",
       "<p>106067 rows × 2 columns</p>\n",
       "</div>"
      ],
      "text/plain": [
       "                                                    posts  type\n",
       "0       know intj tool use interaction people excuse a...  INTJ\n",
       "1       rap music ehh opp yeah know valid well know fa...  INTJ\n",
       "2       preferably p hd low except wew lad video p min...  INTJ\n",
       "3       drink like wish could drink red wine give head...  INTJ\n",
       "4       space program ah bad deal meing freelance max ...  INTJ\n",
       "...                                                   ...   ...\n",
       "106062  stay frustrate world life want take long nap w...  INFP\n",
       "106063  fizzle around time mention sure mistake thing ...  INFP\n",
       "106064  schedule modify hey w intp strong wing underst...  INFP\n",
       "106065  enfj since january busy schedule able spend li...  INFP\n",
       "106066  feel like men good problem tell parent want te...  INFP\n",
       "\n",
       "[106067 rows x 2 columns]"
      ]
     },
     "execution_count": 8,
     "metadata": {},
     "output_type": "execute_result"
    }
   ],
   "source": [
    "import pandas as pd\n",
    "\n",
    "df = pd.read_csv('MBTI 500.csv', delimiter = ',')\n",
    "df"
   ]
  },
  {
   "cell_type": "code",
   "execution_count": 15,
   "id": "d17364c7",
   "metadata": {},
   "outputs": [
    {
     "name": "stdout",
     "output_type": "stream",
     "text": [
      "mathematics\n",
      "12\n"
     ]
    },
    {
     "data": {
      "text/plain": [
       "0         0\n",
       "1         0\n",
       "2         0\n",
       "3         0\n",
       "4         0\n",
       "         ..\n",
       "106062    0\n",
       "106063    2\n",
       "106064    0\n",
       "106065    0\n",
       "106066    0\n",
       "Name: posts, Length: 106067, dtype: int64"
      ]
     },
     "execution_count": 15,
     "metadata": {},
     "output_type": "execute_result"
    }
   ],
   "source": [
    "word_s = input()\n",
    "counts = df['posts'].str.count(word_s)\n",
    "\n",
    "print(max(counts))\n",
    "\n",
    "counts"
   ]
  },
  {
   "cell_type": "code",
   "execution_count": 16,
   "id": "9476ae96",
   "metadata": {},
   "outputs": [],
   "source": [
    "# rslt_df = counts.sort_values(ascending = False)\n",
    "# rslt_df"
   ]
  },
  {
   "cell_type": "code",
   "execution_count": 17,
   "id": "ea3bb923",
   "metadata": {},
   "outputs": [],
   "source": [
    "# rslt_df.head()"
   ]
  },
  {
   "cell_type": "code",
   "execution_count": 18,
   "id": "26bfacb7",
   "metadata": {},
   "outputs": [
    {
     "name": "stdout",
     "output_type": "stream",
     "text": [
      "537 776 2 13 14 26 21 88 80 237 0 5 3 25 158 129\n"
     ]
    }
   ],
   "source": [
    "wo_INTJ = wo_INTP = wo_ISFJ = wo_ISFP = wo_ISTJ = wo_ISTP = wo_ENFJ = wo_ENFP = wo_ENTJ = wo_ENTP = wo_ESFJ = wo_ESFP = wo_ESTJ = wo_ESTP = wo_INFJ = wo_INFP = 0\n",
    "for i in range(106067):\n",
    "    x = 22427\n",
    "    if i <= 22427:\n",
    "        wo_INTJ += counts.iloc[i]\n",
    "    elif i > 22427 and i <= 47388:\n",
    "        wo_INTP += counts.iloc[i]\n",
    "    elif i > 47388 and i <= 48038:\n",
    "        wo_ISFJ += counts.iloc[i]\n",
    "    elif i > 48038 and i <= 48913:\n",
    "        wo_ISFP += counts.iloc[i]\n",
    "    elif i > 48913 and i <= 50156:\n",
    "        wo_ISTJ += counts.iloc[i]\n",
    "    elif i > 50156 and i <= 53580:\n",
    "        wo_ISTP += counts.iloc[i]\n",
    "    elif i > 53580 and i <= 55114:\n",
    "        wo_ENFJ += counts.iloc[i]\n",
    "    elif i > 55114 and i <= 61281:\n",
    "        wo_ENFP += counts.iloc[i]\n",
    "    elif i > 61281 and i <= 64236:\n",
    "        wo_ENTJ += counts.iloc[i]\n",
    "    elif i > 64236 and i <= 75961:\n",
    "        wo_ENTP += counts.iloc[i]\n",
    "    elif i > 75961 and i <= 76142:\n",
    "        wo_ESFJ += counts.iloc[i]\n",
    "    elif i > 76142 and i <= 76502:\n",
    "        wo_ESFP += counts.iloc[i]\n",
    "    elif i > 76502 and i <= 76984:\n",
    "        wo_ESTJ += counts.iloc[i]\n",
    "    elif i > 76984 and i <= 78970:\n",
    "        wo_ESTP += counts.iloc[i]\n",
    "    elif i > 78970 and i <= 93933:\n",
    "        wo_INFJ += counts.iloc[i]\n",
    "    elif i > 93933 and i <= 106067:\n",
    "        wo_INFP += counts.iloc[i]\n",
    "print (wo_INTJ , wo_INTP , wo_ISFJ , wo_ISFP , wo_ISTJ , wo_ISTP , wo_ENFJ , wo_ENFP , wo_ENTJ , wo_ENTP , wo_ESFJ , wo_ESFP , wo_ESTJ , wo_ESTP , wo_INFJ , wo_INFP)"
   ]
  },
  {
   "cell_type": "code",
   "execution_count": 19,
   "id": "3f924626",
   "metadata": {},
   "outputs": [
    {
     "name": "stdout",
     "output_type": "stream",
     "text": [
      "0.0047888705578097825 \n",
      " 0.006217699611393775 \n",
      " 0.0006153846153846154 \n",
      " 0.0029714285714285715 \n",
      " 0.0022526146419951727 \n",
      " 0.0015186915887850467 \n",
      " 0.0027379400260756194 \n",
      " 0.002853899789200584 \n",
      " 0.0054145516074450084 \n",
      " 0.004042643923240939 \n",
      " 0.0 \n",
      " 0.002777777777777778 \n",
      " 0.0012448132780082989 \n",
      " 0.0025176233635448137 \n",
      " 0.0021118759607030675 \n",
      " 0.002126256799076974 \n",
      "\n"
     ]
    }
   ],
   "source": [
    "ptcg_INTJ = (float(wo_INTJ) / (22427 * 500)) * 100  #1\n",
    "ptcg_INTP = (float(wo_INTP) / (24961 * 500)) * 100  #2\n",
    "ptcg_ISFJ = (float(wo_ISFJ) / (650 * 500)) * 100    #3\n",
    "ptcg_ISFP = (float(wo_ISFP) / (875 * 500)) * 100    #4\n",
    "ptcg_ISTJ = (float(wo_ISTJ) / (1243 * 500)) * 100   #5\n",
    "ptcg_ISTP = (float(wo_ISTP) / (3424 * 500)) * 100   #6\n",
    "ptcg_ENFJ = (float(wo_ENFJ) / (1534 * 500)) * 100   #7\n",
    "ptcg_ENFP = (float(wo_ENFP) / (6167 * 500)) * 100   #8\n",
    "ptcg_ENTJ = (float(wo_ENTJ) / (2955 * 500)) * 100   #9\n",
    "ptcg_ENTP = (float(wo_ENTP) / (11725 * 500)) * 100  #10\n",
    "ptcg_ESFJ = (float(wo_ESFJ) / (181 * 500)) * 100    #11\n",
    "ptcg_ESFP = (float(wo_ESFP) / (360 * 500)) * 100    #12\n",
    "ptcg_ESTJ = (float(wo_ESTJ) / (482 * 500)) * 100    #13\n",
    "ptcg_ESTP = (float(wo_ESTP) / (1986 * 500)) * 100   #14\n",
    "ptcg_INFJ = (float(wo_INFJ) / (14963 * 500)) * 100  #15\n",
    "ptcg_INFP = (float(wo_INFP) / (12134 * 500)) * 100  #16\n",
    "\n",
    "print (ptcg_INTJ,'\\n' , ptcg_INTP,'\\n' , ptcg_ISFJ,'\\n' , ptcg_ISFP,'\\n' , ptcg_ISTJ,'\\n' , ptcg_ISTP,'\\n' , ptcg_ENFJ,'\\n' , ptcg_ENFP,'\\n' , ptcg_ENTJ,'\\n' , ptcg_ENTP,'\\n' , ptcg_ESFJ,'\\n' , ptcg_ESFP,'\\n' , ptcg_ESTJ,'\\n' , ptcg_ESTP,'\\n' , ptcg_INFJ,'\\n' , ptcg_INFP,'\\n')"
   ]
  },
  {
   "cell_type": "code",
   "execution_count": 20,
   "id": "3fcb6a70",
   "metadata": {},
   "outputs": [
    {
     "name": "stdout",
     "output_type": "stream",
     "text": [
      "INTJ 0.0047888705578097825\n",
      "INTP 0.006217699611393775\n",
      "ISFJ 0.0006153846153846154\n",
      "ISFP 0.0029714285714285715\n",
      "ISTJ 0.0022526146419951727\n",
      "ISTP 0.0015186915887850467\n",
      "ENFJ 0.0027379400260756194\n",
      "ENFP 0.002853899789200584\n",
      "ENTJ 0.0054145516074450084\n",
      "ENTP 0.004042643923240939\n",
      "ESFJ 0.0\n",
      "ESFP 0.002777777777777778\n",
      "ESTJ 0.0012448132780082989\n",
      "ESTP 0.0025176233635448137\n",
      "INFJ 0.0021118759607030675\n",
      "INFP 0.002126256799076974\n"
     ]
    }
   ],
   "source": [
    "print(\"INTJ\", ptcg_INTJ)\n",
    "print(\"INTP\", ptcg_INTP)\n",
    "print(\"ISFJ\", ptcg_ISFJ)\n",
    "print(\"ISFP\", ptcg_ISFP)\n",
    "print(\"ISTJ\", ptcg_ISTJ) \n",
    "print(\"ISTP\", ptcg_ISTP) \n",
    "print(\"ENFJ\", ptcg_ENFJ) \n",
    "print(\"ENFP\", ptcg_ENFP) \n",
    "print(\"ENTJ\", ptcg_ENTJ) \n",
    "print(\"ENTP\", ptcg_ENTP) \n",
    "print(\"ESFJ\", ptcg_ESFJ) \n",
    "print(\"ESFP\", ptcg_ESFP) \n",
    "print(\"ESTJ\", ptcg_ESTJ) \n",
    "print(\"ESTP\", ptcg_ESTP) \n",
    "print(\"INFJ\", ptcg_INFJ) \n",
    "print(\"INFP\", ptcg_INFP)"
   ]
  },
  {
   "cell_type": "code",
   "execution_count": null,
   "id": "a1d5aeaf",
   "metadata": {},
   "outputs": [],
   "source": []
  }
 ],
 "metadata": {
  "kernelspec": {
   "display_name": "Python 3 (ipykernel)",
   "language": "python",
   "name": "python3"
  },
  "language_info": {
   "codemirror_mode": {
    "name": "ipython",
    "version": 3
   },
   "file_extension": ".py",
   "mimetype": "text/x-python",
   "name": "python",
   "nbconvert_exporter": "python",
   "pygments_lexer": "ipython3",
   "version": "3.9.6"
  }
 },
 "nbformat": 4,
 "nbformat_minor": 5
}
